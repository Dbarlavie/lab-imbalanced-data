{
 "cells": [
  {
   "cell_type": "code",
   "execution_count": 17,
   "id": "1867d775",
   "metadata": {},
   "outputs": [],
   "source": [
    "import pandas as pd\n",
    "import numpy as np\n",
    "import seaborn as sns \n",
    "from sklearn.preprocessing import MinMaxScaler\n",
    "from sklearn.model_selection import train_test_split\n",
    "from sklearn.preprocessing import OneHotEncoder\n",
    "from sklearn.linear_model import LogisticRegression\n",
    "import matplotlib.pyplot as plt\n",
    "from sklearn.preprocessing import StandardScaler"
   ]
  },
  {
   "cell_type": "markdown",
   "id": "ac8ae767",
   "metadata": {},
   "source": [
    "## Data loading and exploration"
   ]
  },
  {
   "cell_type": "code",
   "execution_count": 2,
   "id": "28cef7d0",
   "metadata": {
    "scrolled": false
   },
   "outputs": [
    {
     "data": {
      "text/html": [
       "<div>\n",
       "<style scoped>\n",
       "    .dataframe tbody tr th:only-of-type {\n",
       "        vertical-align: middle;\n",
       "    }\n",
       "\n",
       "    .dataframe tbody tr th {\n",
       "        vertical-align: top;\n",
       "    }\n",
       "\n",
       "    .dataframe thead th {\n",
       "        text-align: right;\n",
       "    }\n",
       "</style>\n",
       "<table border=\"1\" class=\"dataframe\">\n",
       "  <thead>\n",
       "    <tr style=\"text-align: right;\">\n",
       "      <th></th>\n",
       "      <th>customerID</th>\n",
       "      <th>gender</th>\n",
       "      <th>SeniorCitizen</th>\n",
       "      <th>Partner</th>\n",
       "      <th>Dependents</th>\n",
       "      <th>tenure</th>\n",
       "      <th>PhoneService</th>\n",
       "      <th>MultipleLines</th>\n",
       "      <th>InternetService</th>\n",
       "      <th>OnlineSecurity</th>\n",
       "      <th>OnlineBackup</th>\n",
       "      <th>DeviceProtection</th>\n",
       "      <th>TechSupport</th>\n",
       "      <th>StreamingTV</th>\n",
       "      <th>StreamingMovies</th>\n",
       "      <th>Contract</th>\n",
       "      <th>PaperlessBilling</th>\n",
       "      <th>PaymentMethod</th>\n",
       "      <th>MonthlyCharges</th>\n",
       "      <th>TotalCharges</th>\n",
       "      <th>Churn</th>\n",
       "    </tr>\n",
       "  </thead>\n",
       "  <tbody>\n",
       "    <tr>\n",
       "      <th>0</th>\n",
       "      <td>7590-VHVEG</td>\n",
       "      <td>Female</td>\n",
       "      <td>0</td>\n",
       "      <td>Yes</td>\n",
       "      <td>No</td>\n",
       "      <td>1</td>\n",
       "      <td>No</td>\n",
       "      <td>No phone service</td>\n",
       "      <td>DSL</td>\n",
       "      <td>No</td>\n",
       "      <td>Yes</td>\n",
       "      <td>No</td>\n",
       "      <td>No</td>\n",
       "      <td>No</td>\n",
       "      <td>No</td>\n",
       "      <td>Month-to-month</td>\n",
       "      <td>Yes</td>\n",
       "      <td>Electronic check</td>\n",
       "      <td>29.85</td>\n",
       "      <td>29.85</td>\n",
       "      <td>No</td>\n",
       "    </tr>\n",
       "    <tr>\n",
       "      <th>1</th>\n",
       "      <td>5575-GNVDE</td>\n",
       "      <td>Male</td>\n",
       "      <td>0</td>\n",
       "      <td>No</td>\n",
       "      <td>No</td>\n",
       "      <td>34</td>\n",
       "      <td>Yes</td>\n",
       "      <td>No</td>\n",
       "      <td>DSL</td>\n",
       "      <td>Yes</td>\n",
       "      <td>No</td>\n",
       "      <td>Yes</td>\n",
       "      <td>No</td>\n",
       "      <td>No</td>\n",
       "      <td>No</td>\n",
       "      <td>One year</td>\n",
       "      <td>No</td>\n",
       "      <td>Mailed check</td>\n",
       "      <td>56.95</td>\n",
       "      <td>1889.5</td>\n",
       "      <td>No</td>\n",
       "    </tr>\n",
       "    <tr>\n",
       "      <th>2</th>\n",
       "      <td>3668-QPYBK</td>\n",
       "      <td>Male</td>\n",
       "      <td>0</td>\n",
       "      <td>No</td>\n",
       "      <td>No</td>\n",
       "      <td>2</td>\n",
       "      <td>Yes</td>\n",
       "      <td>No</td>\n",
       "      <td>DSL</td>\n",
       "      <td>Yes</td>\n",
       "      <td>Yes</td>\n",
       "      <td>No</td>\n",
       "      <td>No</td>\n",
       "      <td>No</td>\n",
       "      <td>No</td>\n",
       "      <td>Month-to-month</td>\n",
       "      <td>Yes</td>\n",
       "      <td>Mailed check</td>\n",
       "      <td>53.85</td>\n",
       "      <td>108.15</td>\n",
       "      <td>Yes</td>\n",
       "    </tr>\n",
       "    <tr>\n",
       "      <th>3</th>\n",
       "      <td>7795-CFOCW</td>\n",
       "      <td>Male</td>\n",
       "      <td>0</td>\n",
       "      <td>No</td>\n",
       "      <td>No</td>\n",
       "      <td>45</td>\n",
       "      <td>No</td>\n",
       "      <td>No phone service</td>\n",
       "      <td>DSL</td>\n",
       "      <td>Yes</td>\n",
       "      <td>No</td>\n",
       "      <td>Yes</td>\n",
       "      <td>Yes</td>\n",
       "      <td>No</td>\n",
       "      <td>No</td>\n",
       "      <td>One year</td>\n",
       "      <td>No</td>\n",
       "      <td>Bank transfer (automatic)</td>\n",
       "      <td>42.30</td>\n",
       "      <td>1840.75</td>\n",
       "      <td>No</td>\n",
       "    </tr>\n",
       "    <tr>\n",
       "      <th>4</th>\n",
       "      <td>9237-HQITU</td>\n",
       "      <td>Female</td>\n",
       "      <td>0</td>\n",
       "      <td>No</td>\n",
       "      <td>No</td>\n",
       "      <td>2</td>\n",
       "      <td>Yes</td>\n",
       "      <td>No</td>\n",
       "      <td>Fiber optic</td>\n",
       "      <td>No</td>\n",
       "      <td>No</td>\n",
       "      <td>No</td>\n",
       "      <td>No</td>\n",
       "      <td>No</td>\n",
       "      <td>No</td>\n",
       "      <td>Month-to-month</td>\n",
       "      <td>Yes</td>\n",
       "      <td>Electronic check</td>\n",
       "      <td>70.70</td>\n",
       "      <td>151.65</td>\n",
       "      <td>Yes</td>\n",
       "    </tr>\n",
       "  </tbody>\n",
       "</table>\n",
       "</div>"
      ],
      "text/plain": [
       "   customerID  gender  SeniorCitizen Partner Dependents  tenure PhoneService  \\\n",
       "0  7590-VHVEG  Female              0     Yes         No       1           No   \n",
       "1  5575-GNVDE    Male              0      No         No      34          Yes   \n",
       "2  3668-QPYBK    Male              0      No         No       2          Yes   \n",
       "3  7795-CFOCW    Male              0      No         No      45           No   \n",
       "4  9237-HQITU  Female              0      No         No       2          Yes   \n",
       "\n",
       "      MultipleLines InternetService OnlineSecurity OnlineBackup  \\\n",
       "0  No phone service             DSL             No          Yes   \n",
       "1                No             DSL            Yes           No   \n",
       "2                No             DSL            Yes          Yes   \n",
       "3  No phone service             DSL            Yes           No   \n",
       "4                No     Fiber optic             No           No   \n",
       "\n",
       "  DeviceProtection TechSupport StreamingTV StreamingMovies        Contract  \\\n",
       "0               No          No          No              No  Month-to-month   \n",
       "1              Yes          No          No              No        One year   \n",
       "2               No          No          No              No  Month-to-month   \n",
       "3              Yes         Yes          No              No        One year   \n",
       "4               No          No          No              No  Month-to-month   \n",
       "\n",
       "  PaperlessBilling              PaymentMethod  MonthlyCharges TotalCharges  \\\n",
       "0              Yes           Electronic check           29.85        29.85   \n",
       "1               No               Mailed check           56.95       1889.5   \n",
       "2              Yes               Mailed check           53.85       108.15   \n",
       "3               No  Bank transfer (automatic)           42.30      1840.75   \n",
       "4              Yes           Electronic check           70.70       151.65   \n",
       "\n",
       "  Churn  \n",
       "0    No  \n",
       "1    No  \n",
       "2   Yes  \n",
       "3    No  \n",
       "4   Yes  "
      ]
     },
     "execution_count": 2,
     "metadata": {},
     "output_type": "execute_result"
    }
   ],
   "source": [
    "data=pd.read_csv('customer_churn.csv')\n",
    "pd.set_option('display.max_columns', None)\n",
    "data.head()"
   ]
  },
  {
   "cell_type": "code",
   "execution_count": 3,
   "id": "442509e6",
   "metadata": {
    "scrolled": true
   },
   "outputs": [
    {
     "data": {
      "text/plain": [
       "customerID           object\n",
       "gender               object\n",
       "SeniorCitizen         int64\n",
       "Partner              object\n",
       "Dependents           object\n",
       "tenure                int64\n",
       "PhoneService         object\n",
       "MultipleLines        object\n",
       "InternetService      object\n",
       "OnlineSecurity       object\n",
       "OnlineBackup         object\n",
       "DeviceProtection     object\n",
       "TechSupport          object\n",
       "StreamingTV          object\n",
       "StreamingMovies      object\n",
       "Contract             object\n",
       "PaperlessBilling     object\n",
       "PaymentMethod        object\n",
       "MonthlyCharges      float64\n",
       "TotalCharges         object\n",
       "Churn                object\n",
       "dtype: object"
      ]
     },
     "execution_count": 3,
     "metadata": {},
     "output_type": "execute_result"
    }
   ],
   "source": [
    "data.dtypes"
   ]
  },
  {
   "cell_type": "code",
   "execution_count": 4,
   "id": "9e044708",
   "metadata": {},
   "outputs": [
    {
     "name": "stdout",
     "output_type": "stream",
     "text": [
      "Value counts for customerID:\n",
      "customerID\n",
      "7590-VHVEG    1\n",
      "3791-LGQCY    1\n",
      "6008-NAIXK    1\n",
      "5956-YHHRX    1\n",
      "5365-LLFYV    1\n",
      "             ..\n",
      "9796-MVYXX    1\n",
      "2637-FKFSY    1\n",
      "1552-AAGRX    1\n",
      "4304-TSPVK    1\n",
      "3186-AJIEK    1\n",
      "Name: count, Length: 7043, dtype: int64\n",
      "\n",
      "Value counts for gender:\n",
      "gender\n",
      "Male      3555\n",
      "Female    3488\n",
      "Name: count, dtype: int64\n",
      "\n",
      "Value counts for SeniorCitizen:\n",
      "SeniorCitizen\n",
      "0    5901\n",
      "1    1142\n",
      "Name: count, dtype: int64\n",
      "\n",
      "Value counts for Partner:\n",
      "Partner\n",
      "No     3641\n",
      "Yes    3402\n",
      "Name: count, dtype: int64\n",
      "\n",
      "Value counts for Dependents:\n",
      "Dependents\n",
      "No     4933\n",
      "Yes    2110\n",
      "Name: count, dtype: int64\n",
      "\n",
      "Value counts for tenure:\n",
      "tenure\n",
      "1     613\n",
      "72    362\n",
      "2     238\n",
      "3     200\n",
      "4     176\n",
      "     ... \n",
      "28     57\n",
      "39     56\n",
      "44     51\n",
      "36     50\n",
      "0      11\n",
      "Name: count, Length: 73, dtype: int64\n",
      "\n",
      "Value counts for PhoneService:\n",
      "PhoneService\n",
      "Yes    6361\n",
      "No      682\n",
      "Name: count, dtype: int64\n",
      "\n",
      "Value counts for MultipleLines:\n",
      "MultipleLines\n",
      "No                  3390\n",
      "Yes                 2971\n",
      "No phone service     682\n",
      "Name: count, dtype: int64\n",
      "\n",
      "Value counts for InternetService:\n",
      "InternetService\n",
      "Fiber optic    3096\n",
      "DSL            2421\n",
      "No             1526\n",
      "Name: count, dtype: int64\n",
      "\n",
      "Value counts for OnlineSecurity:\n",
      "OnlineSecurity\n",
      "No                     3498\n",
      "Yes                    2019\n",
      "No internet service    1526\n",
      "Name: count, dtype: int64\n",
      "\n",
      "Value counts for OnlineBackup:\n",
      "OnlineBackup\n",
      "No                     3088\n",
      "Yes                    2429\n",
      "No internet service    1526\n",
      "Name: count, dtype: int64\n",
      "\n",
      "Value counts for DeviceProtection:\n",
      "DeviceProtection\n",
      "No                     3095\n",
      "Yes                    2422\n",
      "No internet service    1526\n",
      "Name: count, dtype: int64\n",
      "\n",
      "Value counts for TechSupport:\n",
      "TechSupport\n",
      "No                     3473\n",
      "Yes                    2044\n",
      "No internet service    1526\n",
      "Name: count, dtype: int64\n",
      "\n",
      "Value counts for StreamingTV:\n",
      "StreamingTV\n",
      "No                     2810\n",
      "Yes                    2707\n",
      "No internet service    1526\n",
      "Name: count, dtype: int64\n",
      "\n",
      "Value counts for StreamingMovies:\n",
      "StreamingMovies\n",
      "No                     2785\n",
      "Yes                    2732\n",
      "No internet service    1526\n",
      "Name: count, dtype: int64\n",
      "\n",
      "Value counts for Contract:\n",
      "Contract\n",
      "Month-to-month    3875\n",
      "Two year          1695\n",
      "One year          1473\n",
      "Name: count, dtype: int64\n",
      "\n",
      "Value counts for PaperlessBilling:\n",
      "PaperlessBilling\n",
      "Yes    4171\n",
      "No     2872\n",
      "Name: count, dtype: int64\n",
      "\n",
      "Value counts for PaymentMethod:\n",
      "PaymentMethod\n",
      "Electronic check             2365\n",
      "Mailed check                 1612\n",
      "Bank transfer (automatic)    1544\n",
      "Credit card (automatic)      1522\n",
      "Name: count, dtype: int64\n",
      "\n",
      "Value counts for MonthlyCharges:\n",
      "MonthlyCharges\n",
      "20.05     61\n",
      "19.85     45\n",
      "19.95     44\n",
      "19.90     44\n",
      "20.00     43\n",
      "          ..\n",
      "23.65      1\n",
      "114.70     1\n",
      "43.65      1\n",
      "87.80      1\n",
      "78.70      1\n",
      "Name: count, Length: 1585, dtype: int64\n",
      "\n",
      "Value counts for TotalCharges:\n",
      "TotalCharges\n",
      "          11\n",
      "20.2      11\n",
      "19.75      9\n",
      "20.05      8\n",
      "19.9       8\n",
      "          ..\n",
      "6849.4     1\n",
      "692.35     1\n",
      "130.15     1\n",
      "3211.9     1\n",
      "6844.5     1\n",
      "Name: count, Length: 6531, dtype: int64\n",
      "\n",
      "Value counts for Churn:\n",
      "Churn\n",
      "No     5174\n",
      "Yes    1869\n",
      "Name: count, dtype: int64\n",
      "\n"
     ]
    }
   ],
   "source": [
    "for column in data.columns:\n",
    "    print(f\"Value counts for {column}:\\n{data[column].value_counts()}\\n\")"
   ]
  },
  {
   "cell_type": "code",
   "execution_count": 5,
   "id": "b7adfe00",
   "metadata": {},
   "outputs": [],
   "source": [
    "# many columns have the same values - Yes/No/No internet service"
   ]
  },
  {
   "cell_type": "code",
   "execution_count": 6,
   "id": "6bb77c50",
   "metadata": {},
   "outputs": [],
   "source": [
    "# we will start with the instructed columns -  tenure, SeniorCitizen,MonthlyCharges."
   ]
  },
  {
   "cell_type": "markdown",
   "id": "ddb5f057",
   "metadata": {},
   "source": [
    "## redefining the DF to what is needed"
   ]
  },
  {
   "cell_type": "code",
   "execution_count": 7,
   "id": "ac3a6e73",
   "metadata": {},
   "outputs": [
    {
     "data": {
      "text/html": [
       "<div>\n",
       "<style scoped>\n",
       "    .dataframe tbody tr th:only-of-type {\n",
       "        vertical-align: middle;\n",
       "    }\n",
       "\n",
       "    .dataframe tbody tr th {\n",
       "        vertical-align: top;\n",
       "    }\n",
       "\n",
       "    .dataframe thead th {\n",
       "        text-align: right;\n",
       "    }\n",
       "</style>\n",
       "<table border=\"1\" class=\"dataframe\">\n",
       "  <thead>\n",
       "    <tr style=\"text-align: right;\">\n",
       "      <th></th>\n",
       "      <th>SeniorCitizen</th>\n",
       "      <th>tenure</th>\n",
       "      <th>MonthlyCharges</th>\n",
       "      <th>Churn</th>\n",
       "    </tr>\n",
       "  </thead>\n",
       "  <tbody>\n",
       "    <tr>\n",
       "      <th>0</th>\n",
       "      <td>0</td>\n",
       "      <td>1</td>\n",
       "      <td>29.85</td>\n",
       "      <td>No</td>\n",
       "    </tr>\n",
       "    <tr>\n",
       "      <th>1</th>\n",
       "      <td>0</td>\n",
       "      <td>34</td>\n",
       "      <td>56.95</td>\n",
       "      <td>No</td>\n",
       "    </tr>\n",
       "    <tr>\n",
       "      <th>2</th>\n",
       "      <td>0</td>\n",
       "      <td>2</td>\n",
       "      <td>53.85</td>\n",
       "      <td>Yes</td>\n",
       "    </tr>\n",
       "    <tr>\n",
       "      <th>3</th>\n",
       "      <td>0</td>\n",
       "      <td>45</td>\n",
       "      <td>42.30</td>\n",
       "      <td>No</td>\n",
       "    </tr>\n",
       "    <tr>\n",
       "      <th>4</th>\n",
       "      <td>0</td>\n",
       "      <td>2</td>\n",
       "      <td>70.70</td>\n",
       "      <td>Yes</td>\n",
       "    </tr>\n",
       "  </tbody>\n",
       "</table>\n",
       "</div>"
      ],
      "text/plain": [
       "   SeniorCitizen  tenure  MonthlyCharges Churn\n",
       "0              0       1           29.85    No\n",
       "1              0      34           56.95    No\n",
       "2              0       2           53.85   Yes\n",
       "3              0      45           42.30    No\n",
       "4              0       2           70.70   Yes"
      ]
     },
     "execution_count": 7,
     "metadata": {},
     "output_type": "execute_result"
    }
   ],
   "source": [
    "data2 = data[['SeniorCitizen','tenure','MonthlyCharges','Churn']]\n",
    "data2.head(5)"
   ]
  },
  {
   "cell_type": "markdown",
   "id": "ed611df7",
   "metadata": {},
   "source": [
    "## Split"
   ]
  },
  {
   "cell_type": "code",
   "execution_count": 8,
   "id": "9755e5ab",
   "metadata": {},
   "outputs": [],
   "source": [
    "y = data2['Churn']\n",
    "X = data2.drop('Churn', axis=1)\n",
    "\n",
    "X_train, X_test, y_train, y_test = train_test_split(X, y, random_state=100) "
   ]
  },
  {
   "cell_type": "markdown",
   "id": "db9f8bb6",
   "metadata": {},
   "source": [
    "## Corrolation"
   ]
  },
  {
   "cell_type": "code",
   "execution_count": 83,
   "id": "9a917665",
   "metadata": {},
   "outputs": [
    {
     "data": {
      "image/png": "[encoded data removed]",
      "text/plain": [
       "<Figure size 640x480 with 2 Axes>"
      ]
     },
     "metadata": {},
     "output_type": "display_data"
    }
   ],
   "source": [
    "correlations_matrix = X.corr()\n",
    "sns.heatmap(correlations_matrix, annot=True)\n",
    "plt.show()"
   ]
  },
  {
   "cell_type": "markdown",
   "id": "4540c084",
   "metadata": {},
   "source": [
    "## Scaling"
   ]
  },
  {
   "cell_type": "code",
   "execution_count": 18,
   "id": "4bca3f71",
   "metadata": {},
   "outputs": [
    {
     "data": {
      "text/html": [
       "<div>\n",
       "<style scoped>\n",
       "    .dataframe tbody tr th:only-of-type {\n",
       "        vertical-align: middle;\n",
       "    }\n",
       "\n",
       "    .dataframe tbody tr th {\n",
       "        vertical-align: top;\n",
       "    }\n",
       "\n",
       "    .dataframe thead th {\n",
       "        text-align: right;\n",
       "    }\n",
       "</style>\n",
       "<table border=\"1\" class=\"dataframe\">\n",
       "  <thead>\n",
       "    <tr style=\"text-align: right;\">\n",
       "      <th></th>\n",
       "      <th>SeniorCitizen</th>\n",
       "      <th>tenure</th>\n",
       "      <th>MonthlyCharges</th>\n",
       "    </tr>\n",
       "  </thead>\n",
       "  <tbody>\n",
       "    <tr>\n",
       "      <th>0</th>\n",
       "      <td>-0.439475</td>\n",
       "      <td>0.472016</td>\n",
       "      <td>-0.338701</td>\n",
       "    </tr>\n",
       "    <tr>\n",
       "      <th>1</th>\n",
       "      <td>-0.439475</td>\n",
       "      <td>-0.219704</td>\n",
       "      <td>1.030607</td>\n",
       "    </tr>\n",
       "    <tr>\n",
       "      <th>2</th>\n",
       "      <td>-0.439475</td>\n",
       "      <td>-1.236939</td>\n",
       "      <td>0.147022</td>\n",
       "    </tr>\n",
       "    <tr>\n",
       "      <th>3</th>\n",
       "      <td>-0.439475</td>\n",
       "      <td>-1.236939</td>\n",
       "      <td>-1.464319</td>\n",
       "    </tr>\n",
       "    <tr>\n",
       "      <th>4</th>\n",
       "      <td>2.275441</td>\n",
       "      <td>-0.830045</td>\n",
       "      <td>0.639376</td>\n",
       "    </tr>\n",
       "  </tbody>\n",
       "</table>\n",
       "</div>"
      ],
      "text/plain": [
       "   SeniorCitizen    tenure  MonthlyCharges\n",
       "0      -0.439475  0.472016       -0.338701\n",
       "1      -0.439475 -0.219704        1.030607\n",
       "2      -0.439475 -1.236939        0.147022\n",
       "3      -0.439475 -1.236939       -1.464319\n",
       "4       2.275441 -0.830045        0.639376"
      ]
     },
     "execution_count": 18,
     "metadata": {},
     "output_type": "execute_result"
    }
   ],
   "source": [
    "transformer = StandardScaler().fit(X_train)\n",
    "X_train_scaled = pd.DataFrame(transformer.transform(X_train),columns=X.columns)\n",
    "\n",
    "X_test_scaled = pd.DataFrame(transformer.transform(X_test),columns=X.columns)\n",
    "X_train_scaled.head()"
   ]
  },
  {
   "cell_type": "code",
   "execution_count": 19,
   "id": "89f39871",
   "metadata": {},
   "outputs": [
    {
     "data": {
      "text/plain": [
       "5066     No\n",
       "390      No\n",
       "1007    Yes\n",
       "5087     No\n",
       "2939    Yes\n",
       "Name: Churn, dtype: object"
      ]
     },
     "execution_count": 19,
     "metadata": {},
     "output_type": "execute_result"
    }
   ],
   "source": [
    "y_train.head()"
   ]
  },
  {
   "cell_type": "code",
   "execution_count": 20,
   "id": "e84d687b",
   "metadata": {},
   "outputs": [
    {
     "data": {
      "text/html": [
       "<div>\n",
       "<style scoped>\n",
       "    .dataframe tbody tr th:only-of-type {\n",
       "        vertical-align: middle;\n",
       "    }\n",
       "\n",
       "    .dataframe tbody tr th {\n",
       "        vertical-align: top;\n",
       "    }\n",
       "\n",
       "    .dataframe thead th {\n",
       "        text-align: right;\n",
       "    }\n",
       "</style>\n",
       "<table border=\"1\" class=\"dataframe\">\n",
       "  <thead>\n",
       "    <tr style=\"text-align: right;\">\n",
       "      <th></th>\n",
       "      <th>SeniorCitizen</th>\n",
       "      <th>tenure</th>\n",
       "      <th>MonthlyCharges</th>\n",
       "    </tr>\n",
       "  </thead>\n",
       "  <tbody>\n",
       "    <tr>\n",
       "      <th>5066</th>\n",
       "      <td>0</td>\n",
       "      <td>44</td>\n",
       "      <td>54.30</td>\n",
       "    </tr>\n",
       "    <tr>\n",
       "      <th>390</th>\n",
       "      <td>0</td>\n",
       "      <td>27</td>\n",
       "      <td>95.60</td>\n",
       "    </tr>\n",
       "    <tr>\n",
       "      <th>1007</th>\n",
       "      <td>0</td>\n",
       "      <td>2</td>\n",
       "      <td>68.95</td>\n",
       "    </tr>\n",
       "    <tr>\n",
       "      <th>5087</th>\n",
       "      <td>0</td>\n",
       "      <td>2</td>\n",
       "      <td>20.35</td>\n",
       "    </tr>\n",
       "    <tr>\n",
       "      <th>2939</th>\n",
       "      <td>1</td>\n",
       "      <td>12</td>\n",
       "      <td>83.80</td>\n",
       "    </tr>\n",
       "  </tbody>\n",
       "</table>\n",
       "</div>"
      ],
      "text/plain": [
       "      SeniorCitizen  tenure  MonthlyCharges\n",
       "5066              0      44           54.30\n",
       "390               0      27           95.60\n",
       "1007              0       2           68.95\n",
       "5087              0       2           20.35\n",
       "2939              1      12           83.80"
      ]
     },
     "execution_count": 20,
     "metadata": {},
     "output_type": "execute_result"
    }
   ],
   "source": [
    "X_train.head()"
   ]
  },
  {
   "cell_type": "code",
   "execution_count": 21,
   "id": "b5f64f29",
   "metadata": {},
   "outputs": [],
   "source": [
    "y_train = y_train.reset_index(drop=True)\n",
    "y_test = y_test.reset_index(drop=True)"
   ]
  },
  {
   "cell_type": "code",
   "execution_count": 22,
   "id": "6c9d6352",
   "metadata": {},
   "outputs": [
    {
     "data": {
      "text/plain": [
       "0    No\n",
       "1    No\n",
       "2    No\n",
       "3    No\n",
       "4    No\n",
       "Name: Churn, dtype: object"
      ]
     },
     "execution_count": 22,
     "metadata": {},
     "output_type": "execute_result"
    }
   ],
   "source": [
    "y_test.head()"
   ]
  },
  {
   "cell_type": "code",
   "execution_count": null,
   "id": "55fcc969",
   "metadata": {},
   "outputs": [],
   "source": []
  },
  {
   "cell_type": "markdown",
   "id": "5bdded12",
   "metadata": {},
   "source": [
    "## Model building of LogisticRegression type"
   ]
  },
  {
   "cell_type": "code",
   "execution_count": 33,
   "id": "55f16514",
   "metadata": {},
   "outputs": [
    {
     "data": {
      "text/html": [
       "<style>#sk-container-id-3 {color: black;background-color: white;}#sk-container-id-3 pre{padding: 0;}#sk-container-id-3 div.sk-toggleable {background-color: white;}#sk-container-id-3 label.sk-toggleable__label {cursor: pointer;display: block;width: 100%;margin-bottom: 0;padding: 0.3em;box-sizing: border-box;text-align: center;}#sk-container-id-3 label.sk-toggleable__label-arrow:before {content: \"▸\";float: left;margin-right: 0.25em;color: #696969;}#sk-container-id-3 label.sk-toggleable__label-arrow:hover:before {color: black;}#sk-container-id-3 div.sk-estimator:hover label.sk-toggleable__label-arrow:before {color: black;}#sk-container-id-3 div.sk-toggleable__content {max-height: 0;max-width: 0;overflow: hidden;text-align: left;background-color: #f0f8ff;}#sk-container-id-3 div.sk-toggleable__content pre {margin: 0.2em;color: black;border-radius: 0.25em;background-color: #f0f8ff;}#sk-container-id-3 input.sk-toggleable__control:checked~div.sk-toggleable__content {max-height: 200px;max-width: 100%;overflow: auto;}#sk-container-id-3 input.sk-toggleable__control:checked~label.sk-toggleable__label-arrow:before {content: \"▾\";}#sk-container-id-3 div.sk-estimator input.sk-toggleable__control:checked~label.sk-toggleable__label {background-color: #d4ebff;}#sk-container-id-3 div.sk-label input.sk-toggleable__control:checked~label.sk-toggleable__label {background-color: #d4ebff;}#sk-container-id-3 input.sk-hidden--visually {border: 0;clip: rect(1px 1px 1px 1px);clip: rect(1px, 1px, 1px, 1px);height: 1px;margin: -1px;overflow: hidden;padding: 0;position: absolute;width: 1px;}#sk-container-id-3 div.sk-estimator {font-family: monospace;background-color: #f0f8ff;border: 1px dotted black;border-radius: 0.25em;box-sizing: border-box;margin-bottom: 0.5em;}#sk-container-id-3 div.sk-estimator:hover {background-color: #d4ebff;}#sk-container-id-3 div.sk-parallel-item::after {content: \"\";width: 100%;border-bottom: 1px solid gray;flex-grow: 1;}#sk-container-id-3 div.sk-label:hover label.sk-toggleable__label {background-color: #d4ebff;}#sk-container-id-3 div.sk-serial::before {content: \"\";position: absolute;border-left: 1px solid gray;box-sizing: border-box;top: 0;bottom: 0;left: 50%;z-index: 0;}#sk-container-id-3 div.sk-serial {display: flex;flex-direction: column;align-items: center;background-color: white;padding-right: 0.2em;padding-left: 0.2em;position: relative;}#sk-container-id-3 div.sk-item {position: relative;z-index: 1;}#sk-container-id-3 div.sk-parallel {display: flex;align-items: stretch;justify-content: center;background-color: white;position: relative;}#sk-container-id-3 div.sk-item::before, #sk-container-id-3 div.sk-parallel-item::before {content: \"\";position: absolute;border-left: 1px solid gray;box-sizing: border-box;top: 0;bottom: 0;left: 50%;z-index: -1;}#sk-container-id-3 div.sk-parallel-item {display: flex;flex-direction: column;z-index: 1;position: relative;background-color: white;}#sk-container-id-3 div.sk-parallel-item:first-child::after {align-self: flex-end;width: 50%;}#sk-container-id-3 div.sk-parallel-item:last-child::after {align-self: flex-start;width: 50%;}#sk-container-id-3 div.sk-parallel-item:only-child::after {width: 0;}#sk-container-id-3 div.sk-dashed-wrapped {border: 1px dashed gray;margin: 0 0.4em 0.5em 0.4em;box-sizing: border-box;padding-bottom: 0.4em;background-color: white;}#sk-container-id-3 div.sk-label label {font-family: monospace;font-weight: bold;display: inline-block;line-height: 1.2em;}#sk-container-id-3 div.sk-label-container {text-align: center;}#sk-container-id-3 div.sk-container {/* jupyter's `normalize.less` sets `[hidden] { display: none; }` but bootstrap.min.css set `[hidden] { display: none !important; }` so we also need the `!important` here to be able to override the default hidden behavior on the sphinx rendered scikit-learn.org. See: https://github.com/scikit-learn/scikit-learn/issues/21755 */display: inline-block !important;position: relative;}#sk-container-id-3 div.sk-text-repr-fallback {display: none;}</style><div id=\"sk-container-id-3\" class=\"sk-top-container\"><div class=\"sk-text-repr-fallback\"><pre>LogisticRegression(random_state=100)</pre><b>In a Jupyter environment, please rerun this cell to show the HTML representation or trust the notebook. <br />On GitHub, the HTML representation is unable to render, please try loading this page with nbviewer.org.</b></div><div class=\"sk-container\" hidden><div class=\"sk-item\"><div class=\"sk-estimator sk-toggleable\"><input class=\"sk-toggleable__control sk-hidden--visually\" id=\"sk-estimator-id-3\" type=\"checkbox\" checked><label for=\"sk-estimator-id-3\" class=\"sk-toggleable__label sk-toggleable__label-arrow\">LogisticRegression</label><div class=\"sk-toggleable__content\"><pre>LogisticRegression(random_state=100)</pre></div></div></div></div></div>"
      ],
      "text/plain": [
       "LogisticRegression(random_state=100)"
      ]
     },
     "execution_count": 33,
     "metadata": {},
     "output_type": "execute_result"
    }
   ],
   "source": [
    "from sklearn.linear_model import LogisticRegression\n",
    "\n",
    "LR = LogisticRegression(random_state=100, solver='lbfgs')\n",
    "LR.fit(X_train_scaled, y_train)"
   ]
  },
  {
   "cell_type": "code",
   "execution_count": 34,
   "id": "2ef5e7e9",
   "metadata": {},
   "outputs": [
    {
     "data": {
      "text/plain": [
       "array([[0.92655112, 0.07344888],\n",
       "       [0.57697067, 0.42302933],\n",
       "       [0.44301828, 0.55698172],\n",
       "       ...,\n",
       "       [0.97419954, 0.02580046],\n",
       "       [0.39785974, 0.60214026],\n",
       "       [0.35051136, 0.64948864]])"
      ]
     },
     "execution_count": 34,
     "metadata": {},
     "output_type": "execute_result"
    }
   ],
   "source": [
    "LR.predict_proba(X_train_scaled)"
   ]
  },
  {
   "cell_type": "code",
   "execution_count": 35,
   "id": "5b27c6a9",
   "metadata": {},
   "outputs": [
    {
     "data": {
      "text/plain": [
       "array([ 2.53487958,  0.31034993, -0.22892138, ...,  3.63122369,\n",
       "       -0.41439086, -0.61679225])"
      ]
     },
     "execution_count": 35,
     "metadata": {},
     "output_type": "execute_result"
    }
   ],
   "source": [
    "logits = np.log(1/LR.predict_proba(X_train_scaled)[:,1]-1)\n",
    "logits"
   ]
  },
  {
   "cell_type": "code",
   "execution_count": 36,
   "id": "58c3c63f",
   "metadata": {},
   "outputs": [
    {
     "data": {
      "text/plain": [
       "<matplotlib.collections.PathCollection at 0x2f6a3f786d0>"
      ]
     },
     "execution_count": 36,
     "metadata": {},
     "output_type": "execute_result"
    },
    {
     "data": {
      "image/png": "[encoded data removed]",
      "text/plain": [
       "<Figure size 640x480 with 1 Axes>"
      ]
     },
     "metadata": {},
     "output_type": "display_data"
    }
   ],
   "source": [
    "plt.scatter(logits,X_train_scaled['tenure'])"
   ]
  },
  {
   "cell_type": "code",
   "execution_count": 37,
   "id": "f1b20f3a",
   "metadata": {},
   "outputs": [
    {
     "data": {
      "text/plain": [
       "<matplotlib.collections.PathCollection at 0x2f6a41b9050>"
      ]
     },
     "execution_count": 37,
     "metadata": {},
     "output_type": "execute_result"
    },
    {
     "data": {
      "image/png": "[encoded data removed]",
      "text/plain": [
       "<Figure size 640x480 with 1 Axes>"
      ]
     },
     "metadata": {},
     "output_type": "display_data"
    }
   ],
   "source": [
    "plt.scatter(logits,X_train_scaled['MonthlyCharges'])"
   ]
  },
  {
   "cell_type": "markdown",
   "id": "c33c3c8c",
   "metadata": {},
   "source": [
    "# Imbalance and metrics"
   ]
  },
  {
   "cell_type": "code",
   "execution_count": 38,
   "id": "039efb7a",
   "metadata": {},
   "outputs": [
    {
     "data": {
      "text/plain": [
       "<Axes: xlabel='Churn'>"
      ]
     },
     "execution_count": 38,
     "metadata": {},
     "output_type": "execute_result"
    },
    {
     "data": {
      "image/png": "[encoded data removed]",
      "text/plain": [
       "<Figure size 640x480 with 1 Axes>"
      ]
     },
     "metadata": {},
     "output_type": "display_data"
    }
   ],
   "source": [
    "count_classes = data2['Churn'].value_counts()\n",
    "count_classes\n",
    "count_classes.plot(kind = 'bar')"
   ]
  },
  {
   "cell_type": "code",
   "execution_count": 39,
   "id": "25166fb4",
   "metadata": {},
   "outputs": [
    {
     "data": {
      "text/plain": [
       "0.7764371894960965"
      ]
     },
     "execution_count": 39,
     "metadata": {},
     "output_type": "execute_result"
    }
   ],
   "source": [
    "from sklearn.linear_model import LogisticRegression\n",
    "\n",
    "LR = LogisticRegression(random_state=0, solver='lbfgs')\n",
    "LR.fit(X_train_scaled, y_train)\n",
    "LR.score(X_test_scaled, y_test)"
   ]
  },
  {
   "cell_type": "code",
   "execution_count": 56,
   "id": "31c01d24",
   "metadata": {},
   "outputs": [
    {
     "name": "stdout",
     "output_type": "stream",
     "text": [
      "precision:  0.6219081272084805\n",
      "recall:  0.4583333333333333\n",
      "f1:  0.527736131934033\n"
     ]
    }
   ],
   "source": [
    "from sklearn.metrics import precision_score\n",
    "from sklearn.metrics import recall_score\n",
    "from sklearn.metrics import f1_score\n",
    "\n",
    "pred = LR.predict(X_test_scaled)\n",
    "\n",
    "print(\"precision: \",precision_score(y_test,pred, pos_label='Yes'))\n",
    "print(\"recall: \",recall_score(y_test,pred, pos_label='Yes'))\n",
    "print(\"f1: \",f1_score(y_test,pred, pos_label='Yes'))"
   ]
  },
  {
   "cell_type": "code",
   "execution_count": 57,
   "id": "45a601fd",
   "metadata": {},
   "outputs": [
    {
     "name": "stdout",
     "output_type": "stream",
     "text": [
      "['No' 'No' 'No' ... 'No' 'No' 'No']\n"
     ]
    }
   ],
   "source": [
    "print(pred)"
   ]
  },
  {
   "cell_type": "code",
   "execution_count": 58,
   "id": "67a206c0",
   "metadata": {},
   "outputs": [
    {
     "data": {
      "text/plain": [
       "array([[918, 107],\n",
       "       [208, 176]], dtype=int64)"
      ]
     },
     "execution_count": 58,
     "metadata": {},
     "output_type": "execute_result"
    }
   ],
   "source": [
    "from sklearn.metrics import confusion_matrix\n",
    "confusion_matrix(y_test,pred)"
   ]
  },
  {
   "cell_type": "markdown",
   "id": "a737f004",
   "metadata": {},
   "source": [
    "## Over sampling"
   ]
  },
  {
   "cell_type": "code",
   "execution_count": 59,
   "id": "e86f9d9b",
   "metadata": {},
   "outputs": [],
   "source": [
    "from sklearn.utils import resample\n"
   ]
  },
  {
   "cell_type": "code",
   "execution_count": 68,
   "id": "9cf3f12c",
   "metadata": {},
   "outputs": [
    {
     "data": {
      "text/plain": [
       "(5634, 4)"
      ]
     },
     "execution_count": 68,
     "metadata": {},
     "output_type": "execute_result"
    }
   ],
   "source": [
    "train = pd.concat([X_train_scaled, y_train],axis=1)\n",
    "train.shape"
   ]
  },
  {
   "cell_type": "code",
   "execution_count": 69,
   "id": "e7afd532",
   "metadata": {},
   "outputs": [
    {
     "data": {
      "text/html": [
       "<div>\n",
       "<style scoped>\n",
       "    .dataframe tbody tr th:only-of-type {\n",
       "        vertical-align: middle;\n",
       "    }\n",
       "\n",
       "    .dataframe tbody tr th {\n",
       "        vertical-align: top;\n",
       "    }\n",
       "\n",
       "    .dataframe thead th {\n",
       "        text-align: right;\n",
       "    }\n",
       "</style>\n",
       "<table border=\"1\" class=\"dataframe\">\n",
       "  <thead>\n",
       "    <tr style=\"text-align: right;\">\n",
       "      <th></th>\n",
       "      <th>SeniorCitizen</th>\n",
       "      <th>tenure</th>\n",
       "      <th>MonthlyCharges</th>\n",
       "      <th>Churn</th>\n",
       "    </tr>\n",
       "  </thead>\n",
       "  <tbody>\n",
       "    <tr>\n",
       "      <th>0</th>\n",
       "      <td>-0.439475</td>\n",
       "      <td>0.472016</td>\n",
       "      <td>-0.338701</td>\n",
       "      <td>No</td>\n",
       "    </tr>\n",
       "    <tr>\n",
       "      <th>1</th>\n",
       "      <td>-0.439475</td>\n",
       "      <td>-0.219704</td>\n",
       "      <td>1.030607</td>\n",
       "      <td>No</td>\n",
       "    </tr>\n",
       "    <tr>\n",
       "      <th>2</th>\n",
       "      <td>-0.439475</td>\n",
       "      <td>-1.236939</td>\n",
       "      <td>0.147022</td>\n",
       "      <td>Yes</td>\n",
       "    </tr>\n",
       "    <tr>\n",
       "      <th>3</th>\n",
       "      <td>-0.439475</td>\n",
       "      <td>-1.236939</td>\n",
       "      <td>-1.464319</td>\n",
       "      <td>No</td>\n",
       "    </tr>\n",
       "    <tr>\n",
       "      <th>4</th>\n",
       "      <td>2.275441</td>\n",
       "      <td>-0.830045</td>\n",
       "      <td>0.639376</td>\n",
       "      <td>Yes</td>\n",
       "    </tr>\n",
       "    <tr>\n",
       "      <th>...</th>\n",
       "      <td>...</td>\n",
       "      <td>...</td>\n",
       "      <td>...</td>\n",
       "      <td>...</td>\n",
       "    </tr>\n",
       "    <tr>\n",
       "      <th>5629</th>\n",
       "      <td>-0.439475</td>\n",
       "      <td>0.512705</td>\n",
       "      <td>-1.280308</td>\n",
       "      <td>No</td>\n",
       "    </tr>\n",
       "    <tr>\n",
       "      <th>5630</th>\n",
       "      <td>-0.439475</td>\n",
       "      <td>-1.196250</td>\n",
       "      <td>-1.457688</td>\n",
       "      <td>Yes</td>\n",
       "    </tr>\n",
       "    <tr>\n",
       "      <th>5631</th>\n",
       "      <td>-0.439475</td>\n",
       "      <td>1.611319</td>\n",
       "      <td>0.128787</td>\n",
       "      <td>No</td>\n",
       "    </tr>\n",
       "    <tr>\n",
       "      <th>5632</th>\n",
       "      <td>-0.439475</td>\n",
       "      <td>-1.114871</td>\n",
       "      <td>0.518360</td>\n",
       "      <td>Yes</td>\n",
       "    </tr>\n",
       "    <tr>\n",
       "      <th>5633</th>\n",
       "      <td>-0.439475</td>\n",
       "      <td>-1.277628</td>\n",
       "      <td>0.500124</td>\n",
       "      <td>Yes</td>\n",
       "    </tr>\n",
       "  </tbody>\n",
       "</table>\n",
       "<p>5634 rows × 4 columns</p>\n",
       "</div>"
      ],
      "text/plain": [
       "      SeniorCitizen    tenure  MonthlyCharges Churn\n",
       "0         -0.439475  0.472016       -0.338701    No\n",
       "1         -0.439475 -0.219704        1.030607    No\n",
       "2         -0.439475 -1.236939        0.147022   Yes\n",
       "3         -0.439475 -1.236939       -1.464319    No\n",
       "4          2.275441 -0.830045        0.639376   Yes\n",
       "...             ...       ...             ...   ...\n",
       "5629      -0.439475  0.512705       -1.280308    No\n",
       "5630      -0.439475 -1.196250       -1.457688   Yes\n",
       "5631      -0.439475  1.611319        0.128787    No\n",
       "5632      -0.439475 -1.114871        0.518360   Yes\n",
       "5633      -0.439475 -1.277628        0.500124   Yes\n",
       "\n",
       "[5634 rows x 4 columns]"
      ]
     },
     "execution_count": 69,
     "metadata": {},
     "output_type": "execute_result"
    }
   ],
   "source": [
    "train"
   ]
  },
  {
   "cell_type": "code",
   "execution_count": 70,
   "id": "bea89b69",
   "metadata": {},
   "outputs": [],
   "source": [
    "no_churn = train[train['Churn']=='No']\n",
    "yes_churn = train[train['Churn']=='Yes']"
   ]
  },
  {
   "cell_type": "code",
   "execution_count": 71,
   "id": "713fa003",
   "metadata": {},
   "outputs": [
    {
     "data": {
      "text/plain": [
       "(4149, 4)"
      ]
     },
     "metadata": {},
     "output_type": "display_data"
    },
    {
     "data": {
      "text/plain": [
       "(1485, 4)"
      ]
     },
     "metadata": {},
     "output_type": "display_data"
    }
   ],
   "source": [
    "display(no_churn.shape)\n",
    "display(yes_churn.shape)"
   ]
  },
  {
   "cell_type": "code",
   "execution_count": 74,
   "id": "9549db4a",
   "metadata": {},
   "outputs": [],
   "source": [
    "yes_churn_oversampled = resample(yes_churn,\n",
    "                                    replace=True, \n",
    "                                    n_samples = len(no_churn),\n",
    "                                    random_state=0)"
   ]
  },
  {
   "cell_type": "code",
   "execution_count": 77,
   "id": "5d795a70",
   "metadata": {},
   "outputs": [
    {
     "data": {
      "text/plain": [
       "(4149, 4)"
      ]
     },
     "metadata": {},
     "output_type": "display_data"
    },
    {
     "data": {
      "text/plain": [
       "(1485, 4)"
      ]
     },
     "metadata": {},
     "output_type": "display_data"
    },
    {
     "data": {
      "text/html": [
       "<div>\n",
       "<style scoped>\n",
       "    .dataframe tbody tr th:only-of-type {\n",
       "        vertical-align: middle;\n",
       "    }\n",
       "\n",
       "    .dataframe tbody tr th {\n",
       "        vertical-align: top;\n",
       "    }\n",
       "\n",
       "    .dataframe thead th {\n",
       "        text-align: right;\n",
       "    }\n",
       "</style>\n",
       "<table border=\"1\" class=\"dataframe\">\n",
       "  <thead>\n",
       "    <tr style=\"text-align: right;\">\n",
       "      <th></th>\n",
       "      <th>SeniorCitizen</th>\n",
       "      <th>tenure</th>\n",
       "      <th>MonthlyCharges</th>\n",
       "      <th>Churn</th>\n",
       "    </tr>\n",
       "  </thead>\n",
       "  <tbody>\n",
       "    <tr>\n",
       "      <th>2600</th>\n",
       "      <td>-0.439475</td>\n",
       "      <td>-0.585909</td>\n",
       "      <td>-0.501161</td>\n",
       "      <td>Yes</td>\n",
       "    </tr>\n",
       "    <tr>\n",
       "      <th>2118</th>\n",
       "      <td>-0.439475</td>\n",
       "      <td>-1.277628</td>\n",
       "      <td>-1.472608</td>\n",
       "      <td>Yes</td>\n",
       "    </tr>\n",
       "    <tr>\n",
       "      <th>4511</th>\n",
       "      <td>-0.439475</td>\n",
       "      <td>-1.277628</td>\n",
       "      <td>-0.970307</td>\n",
       "      <td>Yes</td>\n",
       "    </tr>\n",
       "    <tr>\n",
       "      <th>3140</th>\n",
       "      <td>-0.439475</td>\n",
       "      <td>-0.260393</td>\n",
       "      <td>-0.148059</td>\n",
       "      <td>Yes</td>\n",
       "    </tr>\n",
       "    <tr>\n",
       "      <th>2876</th>\n",
       "      <td>-0.439475</td>\n",
       "      <td>-1.033492</td>\n",
       "      <td>0.972585</td>\n",
       "      <td>Yes</td>\n",
       "    </tr>\n",
       "  </tbody>\n",
       "</table>\n",
       "</div>"
      ],
      "text/plain": [
       "      SeniorCitizen    tenure  MonthlyCharges Churn\n",
       "2600      -0.439475 -0.585909       -0.501161   Yes\n",
       "2118      -0.439475 -1.277628       -1.472608   Yes\n",
       "4511      -0.439475 -1.277628       -0.970307   Yes\n",
       "3140      -0.439475 -0.260393       -0.148059   Yes\n",
       "2876      -0.439475 -1.033492        0.972585   Yes"
      ]
     },
     "execution_count": 77,
     "metadata": {},
     "output_type": "execute_result"
    }
   ],
   "source": [
    "display(no_churn.shape)\n",
    "display(yes_churn.shape)\n",
    "yes_churn_oversampled.head()"
   ]
  },
  {
   "cell_type": "code",
   "execution_count": 78,
   "id": "844b8acd",
   "metadata": {},
   "outputs": [
    {
     "data": {
      "text/html": [
       "<div>\n",
       "<style scoped>\n",
       "    .dataframe tbody tr th:only-of-type {\n",
       "        vertical-align: middle;\n",
       "    }\n",
       "\n",
       "    .dataframe tbody tr th {\n",
       "        vertical-align: top;\n",
       "    }\n",
       "\n",
       "    .dataframe thead th {\n",
       "        text-align: right;\n",
       "    }\n",
       "</style>\n",
       "<table border=\"1\" class=\"dataframe\">\n",
       "  <thead>\n",
       "    <tr style=\"text-align: right;\">\n",
       "      <th></th>\n",
       "      <th>SeniorCitizen</th>\n",
       "      <th>tenure</th>\n",
       "      <th>MonthlyCharges</th>\n",
       "      <th>Churn</th>\n",
       "    </tr>\n",
       "  </thead>\n",
       "  <tbody>\n",
       "    <tr>\n",
       "      <th>0</th>\n",
       "      <td>-0.439475</td>\n",
       "      <td>0.472016</td>\n",
       "      <td>-0.338701</td>\n",
       "      <td>No</td>\n",
       "    </tr>\n",
       "    <tr>\n",
       "      <th>1</th>\n",
       "      <td>-0.439475</td>\n",
       "      <td>-0.219704</td>\n",
       "      <td>1.030607</td>\n",
       "      <td>No</td>\n",
       "    </tr>\n",
       "    <tr>\n",
       "      <th>3</th>\n",
       "      <td>-0.439475</td>\n",
       "      <td>-1.236939</td>\n",
       "      <td>-1.464319</td>\n",
       "      <td>No</td>\n",
       "    </tr>\n",
       "    <tr>\n",
       "      <th>8</th>\n",
       "      <td>-0.439475</td>\n",
       "      <td>-1.277628</td>\n",
       "      <td>-0.363567</td>\n",
       "      <td>No</td>\n",
       "    </tr>\n",
       "    <tr>\n",
       "      <th>9</th>\n",
       "      <td>-0.439475</td>\n",
       "      <td>-0.585909</td>\n",
       "      <td>0.775312</td>\n",
       "      <td>No</td>\n",
       "    </tr>\n",
       "  </tbody>\n",
       "</table>\n",
       "</div>"
      ],
      "text/plain": [
       "   SeniorCitizen    tenure  MonthlyCharges Churn\n",
       "0      -0.439475  0.472016       -0.338701    No\n",
       "1      -0.439475 -0.219704        1.030607    No\n",
       "3      -0.439475 -1.236939       -1.464319    No\n",
       "8      -0.439475 -1.277628       -0.363567    No\n",
       "9      -0.439475 -0.585909        0.775312    No"
      ]
     },
     "execution_count": 78,
     "metadata": {},
     "output_type": "execute_result"
    }
   ],
   "source": [
    "train_oversampled = pd.concat([no_churn,yes_churn_oversampled],axis=0)\n",
    "train_oversampled.head()"
   ]
  },
  {
   "cell_type": "code",
   "execution_count": 79,
   "id": "2bacbdc9",
   "metadata": {},
   "outputs": [],
   "source": [
    "y_train_over = train_oversampled['Churn'].copy()\n",
    "X_train_over = train_oversampled.drop('Churn',axis = 1).copy()"
   ]
  },
  {
   "cell_type": "code",
   "execution_count": 81,
   "id": "7f4f9b8c",
   "metadata": {},
   "outputs": [
    {
     "name": "stdout",
     "output_type": "stream",
     "text": [
      "precision:  0.47766323024054985\n",
      "recall:  0.7239583333333334\n",
      "f1:  0.5755693581780539\n"
     ]
    }
   ],
   "source": [
    "LR_over = LogisticRegression(random_state=0, solver='lbfgs')\n",
    "LR_over.fit(X_train_over, y_train_over)\n",
    "pred = LR_over.predict(X_test_scaled)\n",
    "\n",
    "print(\"precision: \",precision_score(y_test,pred, pos_label='Yes'))\n",
    "print(\"recall: \",recall_score(y_test,pred, pos_label='Yes'))\n",
    "print(\"f1: \",f1_score(y_test,pred, pos_label='Yes'))"
   ]
  },
  {
   "cell_type": "code",
   "execution_count": 82,
   "id": "92bd689b",
   "metadata": {},
   "outputs": [
    {
     "data": {
      "text/plain": [
       "array([[721, 304],\n",
       "       [106, 278]], dtype=int64)"
      ]
     },
     "execution_count": 82,
     "metadata": {},
     "output_type": "execute_result"
    }
   ],
   "source": [
    "confusion_matrix(y_test,pred)"
   ]
  },
  {
   "cell_type": "markdown",
   "id": "b76d1159",
   "metadata": {},
   "source": [
    "# SMOTE"
   ]
  },
  {
   "cell_type": "code",
   "execution_count": 84,
   "id": "12d01101",
   "metadata": {},
   "outputs": [
    {
     "data": {
      "text/plain": [
       "'1.2.2'"
      ]
     },
     "execution_count": 84,
     "metadata": {},
     "output_type": "execute_result"
    }
   ],
   "source": [
    "import sklearn\n",
    "sklearn.__version__"
   ]
  },
  {
   "cell_type": "code",
   "execution_count": 85,
   "id": "45c91607",
   "metadata": {},
   "outputs": [],
   "source": [
    "from imblearn.over_sampling import SMOTE"
   ]
  },
  {
   "cell_type": "code",
   "execution_count": 86,
   "id": "3e54156f",
   "metadata": {},
   "outputs": [],
   "source": [
    "sm = SMOTE(random_state=100, k_neighbors=3)\n",
    "X_train_SMOTE,y_train_SMOTE = sm.fit_resample(X_train_scaled,y_train)"
   ]
  },
  {
   "cell_type": "code",
   "execution_count": 87,
   "id": "c2519fb7",
   "metadata": {},
   "outputs": [
    {
     "data": {
      "text/plain": [
       "(8298, 3)"
      ]
     },
     "execution_count": 87,
     "metadata": {},
     "output_type": "execute_result"
    }
   ],
   "source": [
    "X_train_SMOTE.shape"
   ]
  },
  {
   "cell_type": "code",
   "execution_count": 90,
   "id": "26681baa",
   "metadata": {},
   "outputs": [
    {
     "name": "stdout",
     "output_type": "stream",
     "text": [
      "precision:  0.47668393782383417\n",
      "recall:  0.71875\n",
      "f1:  0.5732087227414331\n"
     ]
    }
   ],
   "source": [
    "LR = LogisticRegression(random_state=0, solver='lbfgs')\n",
    "LR.fit(X_train_SMOTE, y_train_SMOTE)\n",
    "pred = LR.predict(X_test_scaled)\n",
    "\n",
    "print(\"precision: \",precision_score(y_test,pred, pos_label='Yes'))\n",
    "print(\"recall: \",recall_score(y_test,pred, pos_label='Yes'))\n",
    "print(\"f1: \",f1_score(y_test,pred, pos_label='Yes'))"
   ]
  },
  {
   "cell_type": "code",
   "execution_count": 91,
   "id": "8a1cfa5f",
   "metadata": {},
   "outputs": [
    {
     "data": {
      "text/plain": [
       "array([[722, 303],\n",
       "       [108, 276]], dtype=int64)"
      ]
     },
     "execution_count": 91,
     "metadata": {},
     "output_type": "execute_result"
    }
   ],
   "source": [
    "confusion_matrix(y_test,pred)"
   ]
  },
  {
   "cell_type": "code",
   "execution_count": null,
   "id": "4e673da3",
   "metadata": {},
   "outputs": [],
   "source": []
  }
 ],
 "metadata": {
  "kernelspec": {
   "display_name": "Python 3 (ipykernel)",
   "language": "python",
   "name": "python3"
  },
  "language_info": {
   "codemirror_mode": {
    "name": "ipython",
    "version": 3
   },
   "file_extension": ".py",
   "mimetype": "text/x-python",
   "name": "python",
   "nbconvert_exporter": "python",
   "pygments_lexer": "ipython3",
   "version": "3.11.5"
  }
 },
 "nbformat": 4,
 "nbformat_minor": 5
}
